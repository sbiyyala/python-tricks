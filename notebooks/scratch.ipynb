{
 "cells": [
  {
   "cell_type": "code",
   "execution_count": 1,
   "metadata": {
    "autoscroll": false,
    "collapsed": false,
    "ein.hycell": false,
    "ein.tags": "worksheet-0",
    "pycharm": {
     "is_executing": false,
     "name": "#%%\n"
    },
    "slideshow": {
     "slide_type": "-"
    }
   },
   "outputs": [
    {
     "name": "stdout",
     "output_type": "stream",
     "text": [
      "{1, 3, 5, -19989, 55}\n"
     ]
    }
   ],
   "source": [
    "li = [1, 2, 3, 5, 8, 10, 55, -19989]\n",
    "print(set(filter(lambda x: x%2 == 1, li)))"
   ]
  },
  {
   "cell_type": "code",
   "execution_count": 3,
   "metadata": {
    "autoscroll": false,
    "collapsed": false,
    "ein.hycell": false,
    "ein.tags": "worksheet-0",
    "pycharm": null,
    "slideshow": {
     "slide_type": "-"
    }
   },
   "outputs": [
    {
     "name": "stdout",
     "output_type": "stream",
     "text": [
      "{1, 2, 3, 5, 8, 10, -19989, 55}\n"
     ]
    }
   ],
   "source": [
    "li = {1, 1, 1, 2, 3, 5, 8, 10, 55, -19989}\n",
    "print(li)"
   ]
  },
  {
   "cell_type": "code",
   "execution_count": 8,
   "metadata": {
    "autoscroll": false,
    "collapsed": false,
    "ein.hycell": false,
    "ein.tags": "worksheet-0",
    "pycharm": null,
    "slideshow": {
     "slide_type": "-"
    }
   },
   "outputs": [
    {
     "name": "stdout",
     "output_type": "stream",
     "text": [
      "Jupyter is awesome\n"
     ]
    }
   ],
   "source": [
    "print(\"Jupyter is awesome\")"
   ]
  },
  {
   "cell_type": "code",
   "execution_count": 15,
   "metadata": {
    "autoscroll": false,
    "collapsed": false,
    "ein.hycell": false,
    "ein.tags": "worksheet-0",
    "pycharm": null,
    "slideshow": {
     "slide_type": "-"
    }
   },
   "outputs": [
    {
     "name": "stdout",
     "output_type": "stream",
     "text": [
      "True\n",
      "True\n",
      "False\n",
      "True\n"
     ]
    }
   ],
   "source": [
    "a = [1, 2, 3]\n",
    "c = a\n",
    "b = list(a)\n",
    "print(a == b)\n",
    "print(a == c)\n",
    "\n",
    "print(a is b)\n",
    "print(a is c)\n",
    "    "
   ]
  },
  {
   "cell_type": "code",
   "execution_count": 29,
   "metadata": {
    "autoscroll": false,
    "collapsed": false,
    "ein.hycell": false,
    "ein.tags": "worksheet-0",
    "pycharm": {
     "is_executing": false
    },
    "slideshow": {
     "slide_type": "-"
    }
   },
   "outputs": [
    {
     "name": "stdout",
     "output_type": "stream",
     "text": [
      "a Blue car which has 2343 miles on it\n"
     ]
    },
    {
     "data": {
      "text/plain": [
       "\"Car('Blue', 2343)\""
      ]
     },
     "execution_count": 29,
     "metadata": {},
     "output_type": "execute_result"
    }
   ],
   "source": [
    "class Car:\n",
    "\n",
    "    def __init__(self, color, mileage):\n",
    "        self.color = color\n",
    "        self.mileage = mileage\n",
    "\n",
    "    def __str__(self):\n",
    "        return f'a {self.color} car which has {self.mileage} miles on it'\n",
    "\n",
    "    def __repr__(self):\n",
    "        return (f'{self.__class__.__name__}('\n",
    "                f'{self.color!r}, {self.mileage!r})')\n",
    "\n",
    "my_car = Car('Blue', 2343)\n",
    "str([my_car])\n",
    "print(str(my_car))\n",
    "repr(my_car)\n"
   ]
  },
  {
   "cell_type": "code",
   "execution_count": 27,
   "metadata": {
    "autoscroll": false,
    "collapsed": false,
    "ein.hycell": false,
    "ein.tags": "worksheet-0",
    "pycharm": {
     "is_executing": false
    },
    "slideshow": {
     "slide_type": "-"
    }
   },
   "outputs": [
    {
     "name": "stdout",
     "output_type": "stream",
     "text": [
      "2019-05-29\n",
      "datetime.date(2019, 5, 29)\n"
     ]
    }
   ],
   "source": [
    "import datetime\n",
    "today = datetime.date.today()\n",
    "print(str(today))\n",
    "print(repr(today)) # We could copy/paste the string returned by this and execute it as valid python to recreate original date obj\n",
    "# While above is good goal, it is often impractical\n",
    "# [recommendation]: Every ADT/custom-class should have atleast a __repr__ method (str defaults to repr if absent)"
   ]
  },
  {
   "cell_type": "code",
   "execution_count": 21,
   "metadata": {
    "autoscroll": false,
    "collapsed": false,
    "ein.hycell": false,
    "ein.tags": "worksheet-0",
    "slideshow": {
     "slide_type": "-"
    }
   },
   "outputs": [
    {
     "name": "stdout",
     "output_type": "stream",
     "text": [
      "<class '__main__.NameTooShortError'>\n",
      "Error validating Joe!\n"
     ]
    }
   ],
   "source": [
    "## 4.3 -> Defining your own exception classes\n",
    "class BaseValidationError(ValueError):\n",
    "    pass\n",
    "\n",
    "class NameTooShortError(BaseValidationError):\n",
    "    pass\n",
    "\n",
    "class NameTooLongError(BaseValidationError):\n",
    "    pass\n",
    "\n",
    "class NameTooCuteError(BaseValidationError):\n",
    "    pass\n",
    "\n",
    "def validate(name):\n",
    "    if len(name) < 10:\n",
    "        raise NameTooShortError(name)\n",
    "\n",
    "def handle_validation_error(name):\n",
    "    print(type(name))\n",
    "    print(f\"Error validating {name}!\")\n",
    "    \n",
    "try:    \n",
    "    validate(\"Joe\")\n",
    "except BaseValidationError as err:\n",
    "    handle_validation_error(err)"
   ]
  },
  {
   "cell_type": "code",
   "execution_count": 34,
   "metadata": {
    "autoscroll": false,
    "collapsed": false,
    "ein.hycell": false,
    "ein.tags": "worksheet-0",
    "slideshow": {
     "slide_type": "-"
    }
   },
   "outputs": [
    {
     "name": "stdout",
     "output_type": "stream",
     "text": [
      "[1, 3, 4, 5, 133]\n",
      "[1, 3, 4, 5]\n"
     ]
    }
   ],
   "source": [
    "## 4.4 Object cloning - \"copy\" module\n",
    "original_list = [1, 3, 4, 5]\n",
    "new_list = list(original_list)\n",
    "original_list.append(133)\n",
    "print(original_list)\n",
    "print(new_list)"
   ]
  },
  {
   "cell_type": "code",
   "execution_count": 42,
   "metadata": {
    "autoscroll": false,
    "collapsed": false,
    "ein.hycell": false,
    "ein.tags": "worksheet-0",
    "slideshow": {
     "slide_type": "-"
    }
   },
   "outputs": [
    {
     "name": "stdout",
     "output_type": "stream",
     "text": [
      "[[1, 2, 12], 3, 23]\n",
      "[[1, 2, 12], 3]\n",
      "[[1, 2], 3]\n"
     ]
    }
   ],
   "source": [
    "## Making shallow copies\n",
    "import copy\n",
    "\n",
    "xs = [[1, 2], 3]\n",
    "ys = list(xs)\n",
    "zs = copy.deepcopy(xs)\n",
    "xs.append(23)\n",
    "xs[0].append(12)\n",
    "print(xs)\n",
    "print(ys)\n",
    "print(zs)"
   ]
  },
  {
   "cell_type": "code",
   "execution_count": 52,
   "metadata": {
    "autoscroll": false,
    "collapsed": false,
    "ein.hycell": false,
    "ein.tags": "worksheet-0",
    "slideshow": {
     "slide_type": "-"
    }
   },
   "outputs": [
    {
     "name": "stdout",
     "output_type": "stream",
     "text": [
      "False\n",
      "True\n"
     ]
    }
   ],
   "source": [
    "## Copying arbitrary Objects\n",
    "import copy\n",
    "\n",
    "class Point:\n",
    "    def __init__(self, x, y):\n",
    "        self.x = x\n",
    "        self.y = y\n",
    "\n",
    "    def __repr__(self):\n",
    "        return f'Point({self.x!r}, {self.y!r})'\n",
    "\n",
    "    def __hash__(self):\n",
    "        return hash(self.x, self.y)\n",
    "\n",
    "    def __eq__(self, other):\n",
    "        return (self.__class__ == other.__class__ and self.x == other.x and self.y == other.y)\n",
    "\n",
    "a = Point(23, 421)\n",
    "b = copy.copy(a)\n",
    "print(a is b)\n",
    "print(a == b)"
   ]
  },
  {
   "cell_type": "code",
   "execution_count": 64,
   "metadata": {
    "autoscroll": false,
    "collapsed": false,
    "ein.hycell": false,
    "ein.tags": "worksheet-0",
    "slideshow": {
     "slide_type": "-"
    }
   },
   "outputs": [
    {
     "name": "stdout",
     "output_type": "stream",
     "text": [
      "Rectangle(Point(999, 1), Point(5, 6))\n",
      "Rectangle(Point(222, 1), Point(5, 6))\n"
     ]
    },
    {
     "data": {
      "text/plain": [
       "False"
      ]
     },
     "execution_count": 64,
     "metadata": {},
     "output_type": "execute_result"
    }
   ],
   "source": [
    "class Rectangle:\n",
    "    def __init__(self, topleft, bottomright):\n",
    "        self.topleft = topleft\n",
    "        self.bottomright = bottomright\n",
    "\n",
    "    def __repr__(self):\n",
    "        return (f'Rectangle({self.topleft!r}, {self.bottomright!r})')\n",
    "\n",
    "rect = Rectangle(Point(0, 1), Point(5, 6))\n",
    "srect = copy.copy(rect)\n",
    "drect = copy.deepcopy(rect)\n",
    "rect.topleft.x = 999\n",
    "drect.topleft.x = 222\n",
    "print(srect)\n",
    "print(drect)\n",
    "srect is rect"
   ]
  },
  {
   "cell_type": "code",
   "execution_count": 84,
   "metadata": {
    "autoscroll": false,
    "collapsed": false,
    "ein.hycell": false,
    "ein.tags": "worksheet-0",
    "slideshow": {
     "slide_type": "-"
    }
   },
   "outputs": [
    {
     "name": "stdout",
     "output_type": "stream",
     "text": [
      "foo() called\n"
     ]
    },
    {
     "data": {
      "text/plain": [
       "'bar() called from TrulyConcrete'"
      ]
     },
     "execution_count": 84,
     "metadata": {},
     "output_type": "execute_result"
    }
   ],
   "source": [
    "## 4.5 Abstract Base Classes Keep Inheritance in check\n",
    "from abc import ABCMeta, abstractmethod\n",
    "\n",
    "class Base(metaclass=ABCMeta):\n",
    "    @abstractmethod\n",
    "    def foo(self):\n",
    "        pass\n",
    "\n",
    "    @abstractmethod\n",
    "    def bar(self):\n",
    "        pass\n",
    "\n",
    "class Concrete(Base):\n",
    "    def foo(self):\n",
    "        return 'foo() called'\n",
    "    \n",
    "class TrulyConcrete(Concrete):\n",
    "    def bar(self):\n",
    "        return 'bar() called from TrulyConcrete'\n",
    "\n",
    "# b = Base()    \n",
    "#c = Concrete()\n",
    "tc = TrulyConcrete()\n",
    "#c.foo()\n",
    "print(tc.foo())\n",
    "tc.bar()"
   ]
  },
  {
   "cell_type": "code",
   "execution_count": 141,
   "metadata": {
    "autoscroll": false,
    "collapsed": false,
    "ein.hycell": false,
    "ein.tags": "worksheet-0",
    "slideshow": {
     "slide_type": "-"
    }
   },
   "outputs": [
    {
     "ename": "TypeError",
     "evalue": "__new__() missing 1 required positional argument: 'mileage'",
     "output_type": "error",
     "traceback": [
      "\u001b[0;31m---------------------------------------------------------------------------\u001b[0m",
      "\u001b[0;31mTypeError\u001b[0m                                 Traceback (most recent call last)",
      "\u001b[0;32m<ipython-input-141-8c0708cf4765>\u001b[0m in \u001b[0;36m<module>\u001b[0;34m\u001b[0m\n\u001b[1;32m      4\u001b[0m \u001b[0mReadableCar\u001b[0m \u001b[0;34m=\u001b[0m \u001b[0mnamedtuple\u001b[0m\u001b[0;34m(\u001b[0m\u001b[0;34m'CarTypeName'\u001b[0m\u001b[0;34m,\u001b[0m \u001b[0;34m[\u001b[0m\u001b[0;34m'color'\u001b[0m\u001b[0;34m,\u001b[0m \u001b[0;34m'mileage'\u001b[0m\u001b[0;34m]\u001b[0m\u001b[0;34m)\u001b[0m\u001b[0;34m\u001b[0m\u001b[0;34m\u001b[0m\u001b[0m\n\u001b[1;32m      5\u001b[0m \u001b[0mcar_1\u001b[0m \u001b[0;34m=\u001b[0m \u001b[0mCar\u001b[0m\u001b[0;34m(\u001b[0m\u001b[0;34m'White'\u001b[0m\u001b[0;34m,\u001b[0m \u001b[0;36m123343\u001b[0m\u001b[0;34m)\u001b[0m\u001b[0;34m\u001b[0m\u001b[0;34m\u001b[0m\u001b[0m\n\u001b[0;32m----> 6\u001b[0;31m \u001b[0mcar_x\u001b[0m \u001b[0;34m=\u001b[0m \u001b[0mCar\u001b[0m\u001b[0;34m(\u001b[0m\u001b[0;34m''\u001b[0m\u001b[0;34m)\u001b[0m\u001b[0;34m\u001b[0m\u001b[0;34m\u001b[0m\u001b[0m\n\u001b[0m\u001b[1;32m      7\u001b[0m \u001b[0mprint\u001b[0m\u001b[0;34m(\u001b[0m\u001b[0mcar_1\u001b[0m\u001b[0;34m)\u001b[0m\u001b[0;34m\u001b[0m\u001b[0;34m\u001b[0m\u001b[0m\n\u001b[1;32m      8\u001b[0m \u001b[0mreadable_car\u001b[0m \u001b[0;34m=\u001b[0m \u001b[0mReadableCar\u001b[0m\u001b[0;34m(\u001b[0m\u001b[0;34m'Brown'\u001b[0m\u001b[0;34m,\u001b[0m \u001b[0;36m1343\u001b[0m\u001b[0;34m)\u001b[0m\u001b[0;34m\u001b[0m\u001b[0;34m\u001b[0m\u001b[0m\n",
      "\u001b[0;31mTypeError\u001b[0m: __new__() missing 1 required positional argument: 'mileage'"
     ]
    }
   ],
   "source": [
    "## Namedtuples\n",
    "from collections import namedtuple\n",
    "Car = namedtuple('CarTypeName', 'color mileage')\n",
    "ReadableCar = namedtuple('CarTypeName', ['color', 'mileage'])\n",
    "car_1 = Car('White', 123343)\n",
    "print(car_1)\n",
    "readable_car = ReadableCar('Brown', 1343)\n",
    "print(readable_car)\n",
    "tuple(readable_car)\n"
   ]
  },
  {
   "cell_type": "code",
   "execution_count": 114,
   "metadata": {
    "autoscroll": false,
    "collapsed": false,
    "ein.hycell": false,
    "ein.tags": "worksheet-0",
    "slideshow": {
     "slide_type": "-"
    }
   },
   "outputs": [
    {
     "name": "stdout",
     "output_type": "stream",
     "text": [
      "Brown 1343\n",
      "Brown 1343\n"
     ]
    },
    {
     "data": {
      "text/plain": [
       "CarTypeName(color='Brown', mileage=1343)"
      ]
     },
     "execution_count": 114,
     "metadata": {},
     "output_type": "execute_result"
    }
   ],
   "source": [
    "## Tuple unpacking, *-operator\n",
    "color, mileage = readable_car\n",
    "print(color, mileage)\n",
    "print(*readable_car)\n",
    "readable_car"
   ]
  },
  {
   "cell_type": "code",
   "execution_count": 121,
   "metadata": {
    "autoscroll": false,
    "collapsed": false,
    "ein.hycell": false,
    "ein.tags": "worksheet-0",
    "slideshow": {
     "slide_type": "-"
    }
   },
   "outputs": [
    {
     "data": {
      "text/plain": [
       "'#ff0000'"
      ]
     },
     "execution_count": 121,
     "metadata": {},
     "output_type": "execute_result"
    }
   ],
   "source": [
    "## Subclassing NamedTuples\n",
    "class MyCarWithMethods(Car):\n",
    "    def hexcolor(self):\n",
    "        if (self.color == 'red'):\n",
    "            return '#ff0000'\n",
    "        else:\n",
    "            return '#000000'\n",
    "\n",
    "my_car = MyCarWithMethods('red', 125.5)\n",
    "my_car.hexcolor()"
   ]
  },
  {
   "cell_type": "code",
   "execution_count": 144,
   "metadata": {
    "autoscroll": false,
    "collapsed": false,
    "ein.hycell": false,
    "ein.tags": "worksheet-0",
    "slideshow": {
     "slide_type": "-"
    }
   },
   "outputs": [
    {
     "name": "stdout",
     "output_type": "stream",
     "text": [
      "ElectricCar(color='RED', mileage=8789, charge=45.66)\n",
      "ElectricCar(color='PURPLE', mileage=878, charge=45.6)\n"
     ]
    }
   ],
   "source": [
    "import json\n",
    "## Idiomatic sub-classing of NamedTuples\n",
    "ElectricCar = namedtuple('ElectricCar', Car._fields + ('charge',))\n",
    "ec_1 = ElectricCar(color='RED', mileage=8789, charge=45.66)\n",
    "print(ec_1)\n",
    "ec_2 = ElectricCar('PURPLE', 878, 45.6)\n",
    "print(ec_2)\n"
   ]
  },
  {
   "cell_type": "code",
   "execution_count": 143,
   "metadata": {
    "autoscroll": false,
    "collapsed": false,
    "ein.hycell": false,
    "ein.tags": "worksheet-0",
    "slideshow": {
     "slide_type": "-"
    }
   },
   "outputs": [
    {
     "name": "stdout",
     "output_type": "stream",
     "text": [
      "{\"color\": \"PURPLE\", \"mileage\": 878, \"charge\": 45.6}\n",
      "ElectricCar(color='PURPLE', mileage=878, charge=45.6)\n",
      "ElectricCar(color='DARK BLUE', mileage=878, charge=50.89)\n"
     ]
    }
   ],
   "source": [
    "## With namedtuples, the underscore naming convention (normally signifying private properties) has a different meaning - these helper methods/properties are *part* of namedtuple's public interface.\n",
    "print(json.dumps(ec_2._asdict()))\n",
    "ec_2_clone = ec_2._replace(color='DARK BLUE', charge=50.89)\n",
    "print(ec_2)\n",
    "print(ec_2_clone)\n",
    "## _make() is a classmethod used to create new instances of a namedtuple from a sequence or iterable\n",
    "\n"
   ]
  },
  {
   "cell_type": "code",
   "execution_count": null,
   "metadata": {
    "autoscroll": false,
    "collapsed": false,
    "ein.hycell": false,
    "ein.tags": "worksheet-0",
    "slideshow": {
     "slide_type": "-"
    }
   },
   "outputs": [],
   "source": [
    "## Class vs Instance variables\n",
    "class Dog:\n",
    "    num_legs = 4\n",
    "\n",
    "    def __init__(self):\n",
    "        pass"
   ]
  }
 ],
 "metadata": {
  "kernelspec": {
   "argv": [
    "/Users/shishir.biyyala/.conda/envs/python-udemy/bin/python",
    "-m",
    "ipykernel_launcher",
    "-f",
    "{connection_file}"
   ],
   "display_name": "PyCharm (python-tricks)",
   "env": null,
   "interrupt_mode": "signal",
   "language": "python",
   "metadata": null,
   "name": "pycharm-8b201f22"
  },
  "language_info": {
   "codemirror_mode": {
    "name": "ipython",
    "version": 2
   },
   "file_extension": ".py",
   "mimetype": "text/x-python",
   "name": "python",
   "nbconvert_exporter": "python",
   "pygments_lexer": "ipython2",
   "version": "2.7.6"
  },
  "name": "scratch.ipynb",
  "pycharm": {
   "stem_cell": {
    "cell_type": "raw",
    "metadata": {
     "collapsed": false
    },
    "source": null
   }
  }
 },
 "nbformat": 4,
 "nbformat_minor": 0
}
