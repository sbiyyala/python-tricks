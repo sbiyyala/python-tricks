{
 "cells": [
  {
   "cell_type": "code",
   "execution_count": 7,
   "metadata": {
    "autoscroll": false,
    "collapsed": false,
    "ein.hycell": false,
    "ein.tags": "worksheet-0",
    "slideshow": {
     "slide_type": "-"
    }
   },
   "outputs": [
    {
     "name": "stdout",
     "output_type": "stream",
     "text": [
      "a red car\n",
      "a red car\n"
     ]
    },
    {
     "data": {
      "text/plain": [
       "\"Car('red', 2343)\""
      ]
     },
     "execution_count": 7,
     "metadata": {},
     "output_type": "execute_result"
    }
   ],
   "source": [
    "class Car:\n",
    "    def __init__(self, color, mileage):\n",
    "        self.color = color\n",
    "        self.mileage = mileage\n",
    "\n",
    "    def __repr__(self):\n",
    "        return '{}({!r}, {!r})'.format(\n",
    "            self.__class__.__name__,\n",
    "            self.color, self.mileage)\n",
    "\n",
    "    def __unicode__(self):\n",
    "        return u'a {self.color} car'.format(self=self)\n",
    "        \n",
    "    def __str__(self):\n",
    "        return unicode(self).encode('utf-8')\n",
    "\n",
    "my_car = Car('red', 2343)\n",
    "print(str(my_car))\n",
    "print(unicode(my_car)) ## The unicode built-in calls __unicode__ if it exists, otherwise falls back to __str__ and decodes the result with the system text encoding.\n",
    "repr(my_car)\n"
   ]
  }
 ],
 "metadata": {
  "kernelspec": {
   "argv": [
    "/Users/shishir.biyyala/tpsoft/anaconda3/envs/py27/bin/python",
    "-m",
    "ipykernel_launcher",
    "-f",
    "{connection_file}"
   ],
   "display_name": "Python 2",
   "env": null,
   "interrupt_mode": "signal",
   "language": "python",
   "metadata": null,
   "name": "python2"
  },
  "name": "scratch-2.7.ipynb"
 },
 "nbformat": 4,
 "nbformat_minor": 2
}
