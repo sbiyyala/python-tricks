{
 "cells": [
  {
   "cell_type": "code",
   "execution_count": null,
   "metadata": {
    "autoscroll": false,
    "collapsed": false,
    "ein.hycell": false,
    "ein.tags": "worksheet-0",
    "slideshow": {
     "slide_type": "-"
    }
   },
   "outputs": [
    {
     "name": "stdout",
     "output_type": "stream",
     "text": [
      "{True: 'maybe'}\n"
     ]
    },
    {
     "data": {
      "text/plain": [
       "True"
      ]
     },
     "execution_count": 8,
     "metadata": {},
     "output_type": "execute_result"
    }
   ],
   "source": [
    "{True: 'yes', 1: 'no', 1.0: 'maybe'}\n",
    "xs = dict()\n",
    "xs[True] = 'yes'\n",
    "xs[1] = 'no'\n",
    "xs[1.0] = 'maybe'\n",
    "print(xs)\n",
    "## Stand type hierarchy\n",
    "True == 1 == 1.0\n"
   ]
  },
  {
   "cell_type": "code",
   "execution_count": 16,
   "metadata": {
    "autoscroll": false,
    "collapsed": false,
    "ein.hycell": false,
    "ein.tags": "worksheet-0",
    "slideshow": {
     "slide_type": "-"
    }
   },
   "outputs": [
    {
     "name": "stdout",
     "output_type": "stream",
     "text": [
      "Pizza (20, ['mozzarella', 'tomatoes'])\n",
      "Pizza (10, ['mozzarella', 'tomatoes', 'ham'])\n"
     ]
    },
    {
     "data": {
      "text/plain": [
       "1256.6370614359173"
      ]
     },
     "execution_count": 16,
     "metadata": {},
     "output_type": "execute_result"
    }
   ],
   "source": [
    "# 1. Factory functions to create new objects that are configured in a customized fashion\n",
    "# 2. class methods allow alternative constructors to be defined [Python allows only one `__init__` method per class\n",
    "import math\n",
    "\n",
    "class Pizza(object):\n",
    "\n",
    "    def __init__(self, radius, ingredients):\n",
    "        self.radius = radius\n",
    "        self.ingredients = ingredients\n",
    "\n",
    "    def __repr__(self):\n",
    "        return f'Pizza ({self.radius!r}, {self.ingredients!r})'\n",
    "\n",
    "    @classmethod\n",
    "    def margherita(cls):\n",
    "        return cls(20, ['mozzarella', 'tomatoes'])\n",
    "\n",
    "    @classmethod\n",
    "    def prosciutto(cls):\n",
    "        return cls(10, ['mozzarella', 'tomatoes', 'ham'])\n",
    "\n",
    "    def area(self):\n",
    "        return self.circle_area(self.radius)\n",
    "    \n",
    "    @staticmethod\n",
    "    def circle_area(r):\n",
    "        return r ** 2 * math.pi\n",
    "\n",
    "m = Pizza.margherita()\n",
    "p = Pizza.prosciutto()    \n",
    "print(m)\n",
    "print(p)\n",
    "m.area()"
   ]
  },
  {
   "cell_type": "code",
   "execution_count": 2,
   "metadata": {
    "autoscroll": false,
    "collapsed": false,
    "ein.hycell": false,
    "ein.tags": "worksheet-0",
    "slideshow": {
     "slide_type": "-"
    }
   },
   "outputs": [
    {
     "name": "stdout",
     "output_type": "stream",
     "text": [
      "{0: 0, 1: 1, 2: 4, 3: 9, 4: 16, 5: 25}\n",
      "defaultdict(<class 'list'>, {'dogs': ['al']})\n",
      "ChainMap({'one': 1, 'two': 2}, {'three': 3, 'four': 4})\n"
     ]
    },
    {
     "data": {
      "text/plain": [
       "3"
      ]
     },
     "execution_count": 2,
     "metadata": {},
     "output_type": "execute_result"
    }
   ],
   "source": [
    "## Datastructures in Python\n",
    "### Dict\n",
    "''' \n",
    "Python dicts are indexed by hashable objects. A hashable object has a hash value which never changes during its lifetime\n",
    "'''\n",
    "from collections import OrderedDict, defaultdict, ChainMap\n",
    "\n",
    "phonebook = {\n",
    "    'bob': 7387,\n",
    "    'alice': 3719,\n",
    "    'jack': 7052\n",
    "}\n",
    "\n",
    "phonebook['bob']\n",
    "\n",
    "squares = {x: x*x for x in range(6)}\n",
    "print(squares)\n",
    "ordered_dict = OrderedDict(one=1, two=2, three=3)\n",
    "ordered_dict['four'] = 4\n",
    "ordered_dict\n",
    "\n",
    "## Default dict\n",
    "dd = defaultdict(list) ## initializes an empty list if key is absent\n",
    "dd['dogs'].append('al')\n",
    "print(dd)\n",
    "\n",
    "## Chain Map\n",
    "dict1 = {'one': 1, 'two': 2}\n",
    "dict2 = {'three': 3, 'four': 4}\n",
    "chain = ChainMap(dict1, dict2)\n",
    "print(chain)\n",
    "chain['three']\n"
   ]
  },
  {
   "cell_type": "code",
   "execution_count": null,
   "metadata": {
    "autoscroll": false,
    "collapsed": false,
    "ein.hycell": false,
    "ein.tags": "worksheet-0",
    "slideshow": {
     "slide_type": "-"
    }
   },
   "outputs": [],
   "source": [
    "## types.MappingProxingType"
   ]
  }
 ],
 "metadata": {
  "kernelspec": {
   "argv": [
    "/usr/local/opt/python/bin/python3.7",
    "-m",
    "ipykernel_launcher",
    "-f",
    "{connection_file}"
   ],
   "display_name": "Python 3",
   "env": null,
   "interrupt_mode": "signal",
   "language": "python",
   "metadata": null,
   "name": "python3"
  },
  "name": "scratch-3-pad-2.ipynb"
 },
 "nbformat": 4,
 "nbformat_minor": 2
}
